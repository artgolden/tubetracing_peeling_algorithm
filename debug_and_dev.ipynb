{
 "cells": [
  {
   "cell_type": "code",
   "execution_count": 1,
   "metadata": {},
   "outputs": [
    {
     "name": "stdout",
     "output_type": "stream",
     "text": [
      "(146, 298, 621)\n",
      "[ 1 22 46]\n"
     ]
    }
   ],
   "source": [
    "# script_hang indefinitely at points_to_convex_hull_volume_mask\n",
    "\n",
    "import numpy as np\n",
    "import stackview\n",
    "from vedo import Points, ConvexHull, Volume\n",
    "\n",
    "\n",
    "def points_to_convex_hull_volume_mask(points, volume_shape_zyx, dilation_radius=3) -> Volume:\n",
    "    \"\"\"\n",
    "    Converts a set of 3D points to a binary volume mask of the inner part of the embryo using a convex hull.\n",
    "\n",
    "    This function takes a set of 3D points and a volume shape, constructs a convex hull from the points,\n",
    "    binarizes the convex hull into a volume mask, and then erodes/dilates the mask. \n",
    "\n",
    "    Args:\n",
    "        points (numpy.ndarray): A numpy array of shape (N, 3) representing the 3D points in ZYX order.\n",
    "        volume_shape_zyx (tuple): A tuple (z, y, x) representing the shape of the volume.\n",
    "        dilation_radius (int): The radius of the dilation applied to the volume mask.  This expands the mask\n",
    "            outwards, useful for ensuring complete coverage of the structure represented by the points.\n",
    "\n",
    "    Returns:\n",
    "        vedo.Volume: A vedo.Volume object representing the binary volume mask.  The mask has values of 255 inside\n",
    "            the convex hull and 0 outside.\n",
    "    \"\"\"\n",
    "    points_raw = points[:, [2, 1, 0]]\n",
    "    pts = Points(points_raw)\n",
    "    print(\"Creating convex hull from points\")\n",
    "    hull = ConvexHull(pts)\n",
    "\n",
    "    vol_shape_xyz = volume_shape_zyx[::-1]\n",
    "    print(\"Binarizing convex hull into volume mask\")\n",
    "    vol_mask = hull.binarize(values=(255,0),dims=vol_shape_xyz,spacing=[1,1,1], origin=(0,0,0))\n",
    "    if dilation_radius > 0:\n",
    "        print(f\"Dilating with radius of {dilation_radius}\")\n",
    "        modified = vol_mask.clone().dilate(neighbours=(dilation_radius,dilation_radius,dilation_radius))\n",
    "    else:\n",
    "        erosion_radius = abs(dilation_radius)\n",
    "        print(f\"Eroding with erosion radius of {erosion_radius}\")\n",
    "        modified = vol_mask.clone().erode(neighbours=(erosion_radius,erosion_radius,erosion_radius))\n",
    "    return modified\n",
    "\n",
    "down_cropped = np.load(\"/scratch/artemiy/test_data_for_serosa_peeling/peeling_debug/script_hang_at__points_to_convex_hull_volume_mask/down_cropped_tp_767.npy\")\n",
    "print(down_cropped.shape)\n",
    "points = np.load(\"/scratch/artemiy/test_data_for_serosa_peeling/peeling_debug/script_hang_at__points_to_convex_hull_volume_mask/tp_767_surface_points.npy\") \n",
    "print(points[0,:,:])\n",
    "# mod = points_to_convex_hull_volume_mask(points, volume_shape_zyx=down_cropped.shape, dilation_radius=3)"
   ]
  },
  {
   "cell_type": "code",
   "execution_count": 5,
   "metadata": {},
   "outputs": [
    {
     "data": {
      "application/vnd.jupyter.widget-view+json": {
       "model_id": "ae778030cd76452daa1ae1b55805d8e0",
       "version_major": 2,
       "version_minor": 0
      },
      "text/plain": [
       "HBox(children=(VBox(children=(VBox(children=(HBox(children=(VBox(children=(ImageWidget(height=298, width=621),…"
      ]
     },
     "execution_count": 5,
     "metadata": {},
     "output_type": "execute_result"
    }
   ],
   "source": [
    "stackview.slice(down_cropped, continuous_update=True)"
   ]
  },
  {
   "cell_type": "code",
   "execution_count": 6,
   "metadata": {},
   "outputs": [],
   "source": [
    "from wbns import substract_background\n",
    "\n",
    "only_structures = substract_background(down_cropped, 4, 1)"
   ]
  },
  {
   "cell_type": "code",
   "execution_count": 7,
   "metadata": {},
   "outputs": [
    {
     "data": {
      "application/vnd.jupyter.widget-view+json": {
       "model_id": "f30e90b6b5334f388b3dbf4f489c6e39",
       "version_major": 2,
       "version_minor": 0
      },
      "text/plain": [
       "HBox(children=(VBox(children=(VBox(children=(HBox(children=(VBox(children=(ImageWidget(height=298, width=621),…"
      ]
     },
     "execution_count": 7,
     "metadata": {},
     "output_type": "execute_result"
    }
   ],
   "source": [
    "stackview.slice(only_structures, continuous_update=True)"
   ]
  },
  {
   "cell_type": "code",
   "execution_count": 9,
   "metadata": {},
   "outputs": [
    {
     "data": {
      "application/vnd.jupyter.widget-view+json": {
       "model_id": "542a095a3bd248f38b8363acf5912cc5",
       "version_major": 2,
       "version_minor": 0
      },
      "text/plain": [
       "HBox(children=(VBox(children=(VBox(children=(HBox(children=(VBox(children=(ImageWidget(height=298, width=621),…"
      ]
     },
     "execution_count": 9,
     "metadata": {},
     "output_type": "execute_result"
    }
   ],
   "source": [
    "# Otsu is clearly failing hard, and whole image is 1 value\n",
    "\n",
    "from skimage import filters\n",
    "from scipy import ndimage as cpu_ndimage\n",
    "\n",
    "\n",
    "substracted_bkg = only_structures\n",
    "th = filters.threshold_otsu(substracted_bkg)\n",
    "mask = substracted_bkg >= th\n",
    "\n",
    "structuring_element = np.ones((3,3,3))\n",
    "eroded_mask = cpu_ndimage.binary_erosion(mask, structure=structuring_element).astype(mask.dtype)  # Keep original datatype\n",
    "# Zerroing out the border to remove artifacts that wbns generates\n",
    "zero_y = int(eroded_mask.shape[1] * (1.15 - 1) / 2) \n",
    "zero_x = int(eroded_mask.shape[2] * (1.15 - 1) / 2)\n",
    "eroded_mask[:,-zero_y:,:] = False\n",
    "eroded_mask[:,:zero_y,:] = False\n",
    "eroded_mask[:,:,-zero_x:] = False\n",
    "eroded_mask[:,:,:zero_x] = False\n",
    "stackview.slice(mask, continuous_update=True)"
   ]
  },
  {
   "cell_type": "code",
   "execution_count": 16,
   "metadata": {},
   "outputs": [
    {
     "data": {
      "application/vnd.jupyter.widget-view+json": {
       "model_id": "b9b1d07d92d945578ee658aa10b8e6ce",
       "version_major": 2,
       "version_minor": 0
      },
      "text/plain": [
       "HBox(children=(VBox(children=(VBox(children=(HBox(children=(VBox(children=(ImageWidget(height=298, width=621),…"
      ]
     },
     "execution_count": 16,
     "metadata": {},
     "output_type": "execute_result"
    }
   ],
   "source": [
    "substracted_bkg = only_structures\n",
    "th = filters.threshold_mean(substracted_bkg)\n",
    "mask = substracted_bkg >= th\n",
    "stackview.slice(mask, continuous_update=True)"
   ]
  },
  {
   "cell_type": "code",
   "execution_count": 2,
   "metadata": {},
   "outputs": [
    {
     "data": {
      "text/plain": [
       "(23110952, 3)"
      ]
     },
     "execution_count": 2,
     "metadata": {},
     "output_type": "execute_result"
    }
   ],
   "source": [
    "points.shape"
   ]
  },
  {
   "cell_type": "code",
   "execution_count": 17,
   "metadata": {},
   "outputs": [
    {
     "data": {
      "text/plain": [
       "(92905, 3)"
      ]
     },
     "execution_count": 17,
     "metadata": {},
     "output_type": "execute_result"
    }
   ],
   "source": [
    "import numpy as np\n",
    "points_766 = np.load(\"/scratch/artemiy/test_data_for_serosa_peeling/peeling_debug/script_hang_at__points_to_convex_hull_volume_mask/tp_766_surface_points.npy\")\n",
    "points_766.shape"
   ]
  },
  {
   "cell_type": "code",
   "execution_count": 19,
   "metadata": {},
   "outputs": [
    {
     "name": "stdout",
     "output_type": "stream",
     "text": [
      "Function execution time: 3.1477 seconds\n"
     ]
    }
   ],
   "source": [
    "from scipy.spatial import ConvexHull\n",
    "import time \n",
    "\n",
    "start_time = time.perf_counter()\n",
    "hull = ConvexHull(points)\n",
    "end_time = time.perf_counter()\n",
    "\n",
    "execution_time = end_time - start_time\n",
    "print(f\"Function execution time: {execution_time:.4f} seconds\")\n"
   ]
  },
  {
   "cell_type": "markdown",
   "metadata": {},
   "source": [
    "Pruning points in a surface mask"
   ]
  },
  {
   "cell_type": "code",
   "execution_count": 38,
   "metadata": {},
   "outputs": [
    {
     "name": "stderr",
     "output_type": "stream",
     "text": [
      "/home/artemiy/mambaforge/envs/tubetracing/lib/python3.10/site-packages/stackview/_static_view.py:101: RuntimeWarning: Converting input from bool to <class 'numpy.uint8'> for compatibility.\n",
      "  h, _ = np.histogram(self.obj, bins=num_bins)\n"
     ]
    },
    {
     "data": {
      "text/html": [
       "<table>\n",
       "<tr>\n",
       "<td>\n",
       "<img src=\"data:image/png;base64,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\"></img>\n",
       "</td>\n",
       "<td style=\"text-align: center; vertical-align: top;\">\n",
       "\n",
       "<table>\n",
       "<tr><td>shape</td><td>(290,&nbsp;170)</td></tr>\n",
       "<tr><td>dtype</td><td>bool</td></tr>\n",
       "<tr><td>size</td><td>48.1 kB</td></tr>\n",
       "<tr><td>min</td><td>False</td></tr><tr><td>max</td><td>True</td></tr>\n",
       "</table>\n",
       "<img src=\"data:image/png;base64,iVBORw0KGgoAAAANSUhEUgAAALQAAAB4CAYAAABb59j9AAAAOnRFWHRTb2Z0d2FyZQBNYXRwbG90bGliIHZlcnNpb24zLjEwLjAsIGh0dHBzOi8vbWF0cGxvdGxpYi5vcmcvlHJYcgAAAAlwSFlzAAAPYQAAD2EBqD+naQAAAj9JREFUeJzt10Gq01AYgNHb4jRdQGnABbgPB27ImThzQw7chwsQ+sgCWhCcNA7kPRBFhL7w4OOcUULCf+/gI9zs1nVdB0TsX3oD8JwETYqgSRE0KYImRdCkCJoUQZMiaFIETYqgSRE0Ka+2Gny73cayLGOaprHb7bZahoB1Xcf1eh3H43Hs9/d9YzcLelmWMc/zVuMJOp/P43Q63TVjs6CnaRpj/Nrk4XDYahkCLpfLmOf5qZl7bBb04zHjcDgImv/yHEdTP4WkCJqUzY4c//L6/een62+f3r3EFojyhSZF0KQImhRBkyJoUgRNiqBJETQpgiZF0KQImhRBkyJoUgRNiqBJETQpgiZF0KQImhRBkyJoUgRNiqBJETQpgiZF0KQImhRBkyJoUgRNiqBJETQpgiZF0KQImhRBkyJoUgRNiqBJETQpgiZF0KQImhRBkyJoUgRNiqBJETQpgiZF0KQImhRBkyJoUgRNiqBJETQpgiZF0KQImhRBkyJoUgRNiqBJETQpgiZF0KQImhRBkyJoUgRNiqBJETQpgiZF0KQImhRBkyJoUgRNiqBJETQpgiZF0KQImhRBkyJoUgRNyqutBq/rOsYY43K5/PHs9uP70/XfntPx5sOX3+6/fnz7xzuPDTw2c4/d+hxT/uLh4WHM87zFaKLO5/M4nU53zdgs6NvtNpZlGdM0jd1ut8USRKzrOq7X6zgej2O/v+8UvFnQ8BL8FJIiaFIETYqgSRE0KYImRdCkCJoUQZMiaFJ+Aoi6UwBdFikxAAAAAElFTkSuQmCC\"></img>\n",
       "</td>\n",
       "</tr>\n",
       "</table>"
      ],
      "text/plain": [
       "StackViewNDArray([[False, False, False, ..., False, False, False],\n",
       "                  [False, False, False, ..., False, False, False],\n",
       "                  [False, False, False, ..., False, False, False],\n",
       "                  ...,\n",
       "                  [False, False, False, ..., False, False, False],\n",
       "                  [False, False, False, ..., False, False, False],\n",
       "                  [False, False, False, ..., False, False, False]])"
      ]
     },
     "execution_count": 38,
     "metadata": {},
     "output_type": "execute_result"
    }
   ],
   "source": [
    "import tifffile as tiff\n",
    "mask = tiff.imread(\"outs/tp_301_wbns_surface_voxels_true.tif\")\n",
    "mask = np.transpose(mask, (2,1,0))\n",
    "stackview.insight(mask[244])"
   ]
  },
  {
   "cell_type": "code",
   "execution_count": 140,
   "metadata": {},
   "outputs": [
    {
     "name": "stdout",
     "output_type": "stream",
     "text": [
      "Original volume:\n",
      "Pruned volume:\n"
     ]
    }
   ],
   "source": [
    "import numpy as np\n",
    "from numba import njit, prange\n",
    "\n",
    "@njit(parallel=True, cache=True)\n",
    "def prune_volume_cpu(volume, block_h=4, block_w=4):\n",
    "    \"\"\"\n",
    "    CPU accelerated pruning of voxels in a 3D volume using Numba.\n",
    "    \n",
    "    For each slice in the 3D boolean volume (shape: [n_slices, height, width]), the function:\n",
    "      - Computes the mid-point of the slice as (x=width//2, y=height//2).\n",
    "      - Splits the slice into non-overlapping 4x4 blocks by default.\n",
    "      - Within each block, finds the True pixel furthest from the mid-point (using squared Euclidean distance).\n",
    "      - Prunes the block by setting all True pixels to False except the selected one.\n",
    "    \n",
    "    Parameters:\n",
    "        volume (np.ndarray): 3D numpy array with boolean values.\n",
    "        block_h (int): Height of each block.\n",
    "        block_w (int): Width of each block.\n",
    "        \n",
    "    Returns:\n",
    "        volume (np.ndarray): The modified volume with pruned voxels.\n",
    "    \"\"\"\n",
    "    n_slices, height, width = volume.shape\n",
    "    block_h, block_w = 4, 4\n",
    "    # mid-point for each slice (same for all slices)\n",
    "    mid_y = height // 2\n",
    "    mid_x = width // 2\n",
    "\n",
    "    # Compute the number of blocks along each dimension.\n",
    "    grid_y = (height + block_h - 1) // block_h\n",
    "    grid_x = (width + block_w - 1) // block_w\n",
    "\n",
    "    # Process each slice in parallel.\n",
    "    for s in prange(n_slices):\n",
    "        for by in range(grid_y):\n",
    "            for bx in range(grid_x):\n",
    "                start_y = by * block_h\n",
    "                start_x = bx * block_w\n",
    "                max_dist = -1.0\n",
    "                max_r = -1\n",
    "                max_c = -1\n",
    "                # First pass: Find the True pixel with the maximum distance.\n",
    "                for i in range(block_h):\n",
    "                    r = start_y + i\n",
    "                    if r >= height:\n",
    "                        break\n",
    "                    for j in range(block_w):\n",
    "                        c = start_x + j\n",
    "                        if c >= width:\n",
    "                            break\n",
    "                        if volume[s, r, c]:\n",
    "                            dx = c - mid_x\n",
    "                            dy = r - mid_y\n",
    "                            dist = dx * dx + dy * dy\n",
    "                            if dist > max_dist:\n",
    "                                max_dist = dist\n",
    "                                max_r = r\n",
    "                                max_c = c\n",
    "                # Second pass: Clear all True pixels except the one with max distance.\n",
    "                if max_r != -1:  # if at least one True pixel was found\n",
    "                    for i in range(block_h):\n",
    "                        r = start_y + i\n",
    "                        if r >= height:\n",
    "                            break\n",
    "                        for j in range(block_w):\n",
    "                            c = start_x + j\n",
    "                            if c >= width:\n",
    "                                break\n",
    "                            if volume[s, r, c] and not (r == max_r and c == max_c):\n",
    "                                volume[s, r, c] = False\n",
    "    return volume\n",
    "\n",
    "if __name__ == '__main__':\n",
    "    # Example usage: create a small random volume of shape (2, 8, 8)\n",
    "    np.random.seed(0)\n",
    "    volume = (np.random.rand(170, 2900, 635) > 0.9)\n",
    "    print(\"Original volume:\")\n",
    "    # print(volume.astype(np.int32))\n",
    "    \n",
    "    # Create a copy if you wish to preserve the original volume.\n",
    "    # pruned = prune_volume_cpu(volume.copy())\n",
    "    print(\"Pruned volume:\")\n",
    "    # print(pruned.astype(np.int32))\n"
   ]
  },
  {
   "cell_type": "code",
   "execution_count": 137,
   "metadata": {},
   "outputs": [],
   "source": [
    "volume = (np.random.rand(170, 2900, 635) > 0.9)"
   ]
  },
  {
   "cell_type": "code",
   "execution_count": 142,
   "metadata": {},
   "outputs": [],
   "source": [
    "pruned = prune_volume_cpu(volume.copy())"
   ]
  },
  {
   "cell_type": "code",
   "execution_count": 116,
   "metadata": {},
   "outputs": [
    {
     "data": {
      "application/vnd.jupyter.widget-view+json": {
       "model_id": "0559a43302a24c80a9365a3e0b048cd5",
       "version_major": 2,
       "version_minor": 0
      },
      "text/plain": [
       "HBox(children=(VBox(children=(VBox(children=(HBox(children=(VBox(children=(ImageWidget(height=580, width=1270)…"
      ]
     },
     "execution_count": 116,
     "metadata": {},
     "output_type": "execute_result"
    }
   ],
   "source": [
    "stackview.slice(pruned, continuous_update=True, zoom_factor=2)"
   ]
  }
 ],
 "metadata": {
  "kernelspec": {
   "display_name": "tubetracing",
   "language": "python",
   "name": "python3"
  },
  "language_info": {
   "codemirror_mode": {
    "name": "ipython",
    "version": 3
   },
   "file_extension": ".py",
   "mimetype": "text/x-python",
   "name": "python",
   "nbconvert_exporter": "python",
   "pygments_lexer": "ipython3",
   "version": "3.10.16"
  }
 },
 "nbformat": 4,
 "nbformat_minor": 2
}
