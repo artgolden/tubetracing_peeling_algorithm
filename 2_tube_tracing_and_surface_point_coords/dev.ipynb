{
 "cells": [
  {
   "cell_type": "code",
   "execution_count": null,
   "metadata": {},
   "outputs": [],
   "source": [
    "import numpy as np\n",
    "from scipy.spatial import ConvexHull\n",
    "\n",
    "def extract_convex_hull_points(points):\n",
    "    \"\"\"\n",
    "    Computes the convex hull of a set of 3D points and returns an array\n",
    "    containing only the points that lie on the convex hull.\n",
    "\n",
    "    Args:\n",
    "        points (np.ndarray): A NumPy array of shape (N, 3), where N is the\n",
    "                             number of 3D points.\n",
    "\n",
    "    Returns:\n",
    "        np.ndarray: A NumPy array of shape (M, 3) containing the points on the\n",
    "                    convex hull, where M <= N.  M is the number of points on the convex hull.\n",
    "                    Returns None if there is an error (e.g., insufficient points\n",
    "                    to form a convex hull).\n",
    "    \"\"\"\n",
    "    try:\n",
    "        # Check if the input array is valid\n",
    "        if not isinstance(points, np.ndarray) or points.ndim != 2 or points.shape[1] != 3:\n",
    "            raise ValueError(\"Input must be a NumPy array of shape (N, 3).\")\n",
    "\n",
    "        if points.shape[0] < 4:\n",
    "            print(\"Warning: At least 4 points are required to form a 3D convex hull.\")\n",
    "            return None\n",
    "\n",
    "        # Compute the convex hull using scipy.spatial.ConvexHull\n",
    "        hull = ConvexHull(points)\n",
    "\n",
    "        # Extract the vertices of the convex hull\n",
    "        hull_points = points[hull.vertices]\n",
    "\n",
    "        return hull_points\n",
    "\n",
    "    except Exception as e:\n",
    "        print(f\"An error occurred: {e}\")\n",
    "        return None"
   ]
  }
 ],
 "metadata": {
  "kernelspec": {
   "display_name": "tubetracing",
   "language": "python",
   "name": "python3"
  },
  "language_info": {
   "codemirror_mode": {
    "name": "ipython",
    "version": 3
   },
   "file_extension": ".py",
   "mimetype": "text/x-python",
   "name": "python",
   "nbconvert_exporter": "python",
   "pygments_lexer": "ipython3",
   "version": "3.10.16"
  }
 },
 "nbformat": 4,
 "nbformat_minor": 2
}
