{
 "cells": [
  {
   "cell_type": "code",
   "execution_count": 1,
   "metadata": {},
   "outputs": [
    {
     "name": "stdout",
     "output_type": "stream",
     "text": [
      "(146, 298, 621)\n",
      "[ 1 22 46]\n"
     ]
    }
   ],
   "source": [
    "# script_hang indefinitely at points_to_convex_hull_volume_mask\n",
    "\n",
    "import numpy as np\n",
    "import stackview\n",
    "from vedo import Points, ConvexHull, Volume\n",
    "\n",
    "\n",
    "def points_to_convex_hull_volume_mask(points, volume_shape_zyx, dilation_radius=3) -> Volume:\n",
    "    \"\"\"\n",
    "    Converts a set of 3D points to a binary volume mask of the inner part of the embryo using a convex hull.\n",
    "\n",
    "    This function takes a set of 3D points and a volume shape, constructs a convex hull from the points,\n",
    "    binarizes the convex hull into a volume mask, and then erodes/dilates the mask. \n",
    "\n",
    "    Args:\n",
    "        points (numpy.ndarray): A numpy array of shape (N, 3) representing the 3D points in ZYX order.\n",
    "        volume_shape_zyx (tuple): A tuple (z, y, x) representing the shape of the volume.\n",
    "        dilation_radius (int): The radius of the dilation applied to the volume mask.  This expands the mask\n",
    "            outwards, useful for ensuring complete coverage of the structure represented by the points.\n",
    "\n",
    "    Returns:\n",
    "        vedo.Volume: A vedo.Volume object representing the binary volume mask.  The mask has values of 255 inside\n",
    "            the convex hull and 0 outside.\n",
    "    \"\"\"\n",
    "    points_raw = points[:, [2, 1, 0]]\n",
    "    pts = Points(points_raw)\n",
    "    print(\"Creating convex hull from points\")\n",
    "    hull = ConvexHull(pts)\n",
    "\n",
    "    vol_shape_xyz = volume_shape_zyx[::-1]\n",
    "    print(\"Binarizing convex hull into volume mask\")\n",
    "    vol_mask = hull.binarize(values=(255,0),dims=vol_shape_xyz,spacing=[1,1,1], origin=(0,0,0))\n",
    "    if dilation_radius > 0:\n",
    "        print(f\"Dilating with radius of {dilation_radius}\")\n",
    "        modified = vol_mask.clone().dilate(neighbours=(dilation_radius,dilation_radius,dilation_radius))\n",
    "    else:\n",
    "        erosion_radius = abs(dilation_radius)\n",
    "        print(f\"Eroding with erosion radius of {erosion_radius}\")\n",
    "        modified = vol_mask.clone().erode(neighbours=(erosion_radius,erosion_radius,erosion_radius))\n",
    "    return modified\n",
    "\n",
    "down_cropped = np.load(\"/scratch/artemiy/test_data_for_serosa_peeling/peeling_debug/script_hang_at__points_to_convex_hull_volume_mask/down_cropped_tp_767.npy\")\n",
    "print(down_cropped.shape)\n",
    "points = np.load(\"/scratch/artemiy/test_data_for_serosa_peeling/peeling_debug/script_hang_at__points_to_convex_hull_volume_mask/tp_767_surface_points.npy\") \n",
    "print(points[0,:,:])\n",
    "# mod = points_to_convex_hull_volume_mask(points, volume_shape_zyx=down_cropped.shape, dilation_radius=3)"
   ]
  },
  {
   "cell_type": "code",
   "execution_count": 5,
   "metadata": {},
   "outputs": [
    {
     "data": {
      "application/vnd.jupyter.widget-view+json": {
       "model_id": "ae778030cd76452daa1ae1b55805d8e0",
       "version_major": 2,
       "version_minor": 0
      },
      "text/plain": [
       "HBox(children=(VBox(children=(VBox(children=(HBox(children=(VBox(children=(ImageWidget(height=298, width=621),…"
      ]
     },
     "execution_count": 5,
     "metadata": {},
     "output_type": "execute_result"
    }
   ],
   "source": [
    "stackview.slice(down_cropped, continuous_update=True)"
   ]
  },
  {
   "cell_type": "code",
   "execution_count": 6,
   "metadata": {},
   "outputs": [],
   "source": [
    "from wbns import substract_background\n",
    "\n",
    "only_structures = substract_background(down_cropped, 4, 1)"
   ]
  },
  {
   "cell_type": "code",
   "execution_count": 7,
   "metadata": {},
   "outputs": [
    {
     "data": {
      "application/vnd.jupyter.widget-view+json": {
       "model_id": "f30e90b6b5334f388b3dbf4f489c6e39",
       "version_major": 2,
       "version_minor": 0
      },
      "text/plain": [
       "HBox(children=(VBox(children=(VBox(children=(HBox(children=(VBox(children=(ImageWidget(height=298, width=621),…"
      ]
     },
     "execution_count": 7,
     "metadata": {},
     "output_type": "execute_result"
    }
   ],
   "source": [
    "stackview.slice(only_structures, continuous_update=True)"
   ]
  },
  {
   "cell_type": "code",
   "execution_count": 9,
   "metadata": {},
   "outputs": [
    {
     "data": {
      "application/vnd.jupyter.widget-view+json": {
       "model_id": "542a095a3bd248f38b8363acf5912cc5",
       "version_major": 2,
       "version_minor": 0
      },
      "text/plain": [
       "HBox(children=(VBox(children=(VBox(children=(HBox(children=(VBox(children=(ImageWidget(height=298, width=621),…"
      ]
     },
     "execution_count": 9,
     "metadata": {},
     "output_type": "execute_result"
    }
   ],
   "source": [
    "# Otsu is clearly failing hard, and whole image is 1 value\n",
    "\n",
    "from skimage import filters\n",
    "from scipy import ndimage as cpu_ndimage\n",
    "\n",
    "\n",
    "substracted_bkg = only_structures\n",
    "th = filters.threshold_otsu(substracted_bkg)\n",
    "mask = substracted_bkg >= th\n",
    "\n",
    "structuring_element = np.ones((3,3,3))\n",
    "eroded_mask = cpu_ndimage.binary_erosion(mask, structure=structuring_element).astype(mask.dtype)  # Keep original datatype\n",
    "# Zerroing out the border to remove artifacts that wbns generates\n",
    "zero_y = int(eroded_mask.shape[1] * (1.15 - 1) / 2) \n",
    "zero_x = int(eroded_mask.shape[2] * (1.15 - 1) / 2)\n",
    "eroded_mask[:,-zero_y:,:] = False\n",
    "eroded_mask[:,:zero_y,:] = False\n",
    "eroded_mask[:,:,-zero_x:] = False\n",
    "eroded_mask[:,:,:zero_x] = False\n",
    "stackview.slice(mask, continuous_update=True)"
   ]
  },
  {
   "cell_type": "code",
   "execution_count": 16,
   "metadata": {},
   "outputs": [
    {
     "data": {
      "application/vnd.jupyter.widget-view+json": {
       "model_id": "b9b1d07d92d945578ee658aa10b8e6ce",
       "version_major": 2,
       "version_minor": 0
      },
      "text/plain": [
       "HBox(children=(VBox(children=(VBox(children=(HBox(children=(VBox(children=(ImageWidget(height=298, width=621),…"
      ]
     },
     "execution_count": 16,
     "metadata": {},
     "output_type": "execute_result"
    }
   ],
   "source": [
    "substracted_bkg = only_structures\n",
    "th = filters.threshold_mean(substracted_bkg)\n",
    "mask = substracted_bkg >= th\n",
    "stackview.slice(mask, continuous_update=True)"
   ]
  },
  {
   "cell_type": "code",
   "execution_count": 2,
   "metadata": {},
   "outputs": [
    {
     "data": {
      "text/plain": [
       "(23110952, 3)"
      ]
     },
     "execution_count": 2,
     "metadata": {},
     "output_type": "execute_result"
    }
   ],
   "source": [
    "points.shape"
   ]
  },
  {
   "cell_type": "code",
   "execution_count": 4,
   "metadata": {},
   "outputs": [
    {
     "data": {
      "text/plain": [
       "(92905, 3)"
      ]
     },
     "execution_count": 4,
     "metadata": {},
     "output_type": "execute_result"
    }
   ],
   "source": [
    "points_766 = np.load(\"/scratch/artemiy/test_data_for_serosa_peeling/peeling_debug/script_hang_at__points_to_convex_hull_volume_mask/tp_766_surface_points.npy\")\n",
    "points_766.shape"
   ]
  }
 ],
 "metadata": {
  "kernelspec": {
   "display_name": "tubetracing",
   "language": "python",
   "name": "python3"
  },
  "language_info": {
   "codemirror_mode": {
    "name": "ipython",
    "version": 3
   },
   "file_extension": ".py",
   "mimetype": "text/x-python",
   "name": "python",
   "nbconvert_exporter": "python",
   "pygments_lexer": "ipython3",
   "version": "3.10.16"
  }
 },
 "nbformat": 4,
 "nbformat_minor": 2
}
